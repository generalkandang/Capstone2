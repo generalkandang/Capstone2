{
 "cells": [
  {
   "cell_type": "code",
   "execution_count": 1,
   "metadata": {},
   "outputs": [],
   "source": [
    "#import libraries\n",
    "import sqlite3\n",
    "from urllib.request import urlretrieve\n",
    "import pandas as pd\n",
    "import matplotlib.pyplot as plt\n",
    "from pathlib import Path\n",
    "import numpy as np\n",
    "import seaborn as sns\n",
    "import os\n",
    "import requests as req\n",
    "import json\n",
    "import time\n",
    "import random\n",
    "from sklearn.decomposition import PCA\n",
    "from sklearn.preprocessing import scale\n",
    "from riotwatcher import LolWatcher, ApiError"
   ]
  },
  {
   "cell_type": "code",
   "execution_count": 2,
   "metadata": {},
   "outputs": [],
   "source": [
    "#load the data\n",
    "team_data = pd.read_csv('/Users/dankang/Desktop/SpringBoard/Capstone2/Capstone2/data/processed/Wrangled_LoL_Data.csv')"
   ]
  },
  {
   "cell_type": "code",
   "execution_count": 3,
   "metadata": {},
   "outputs": [
    {
     "name": "stdout",
     "output_type": "stream",
     "text": [
      "<class 'pandas.core.frame.DataFrame'>\n",
      "RangeIndex: 10 entries, 0 to 9\n",
      "Data columns (total 81 columns):\n",
      " #   Column                   Non-Null Count  Dtype  \n",
      "---  ------                   --------------  -----  \n",
      " 0   team                     10 non-null     object \n",
      " 1   gamesplayed              10 non-null     int64  \n",
      " 2   Win_Percentage           10 non-null     float64\n",
      " 3   Wins                     10 non-null     int64  \n",
      " 4   Losses                   10 non-null     int64  \n",
      " 5   patch                    10 non-null     float64\n",
      " 6   gamelength               10 non-null     int64  \n",
      " 7   kills                    10 non-null     int64  \n",
      " 8   deaths                   10 non-null     int64  \n",
      " 9   assists                  10 non-null     int64  \n",
      " 10  teamkills                10 non-null     int64  \n",
      " 11  teamdeaths               10 non-null     int64  \n",
      " 12  doublekills              10 non-null     float64\n",
      " 13  triplekills              10 non-null     float64\n",
      " 14  quadrakills              10 non-null     float64\n",
      " 15  pentakills               10 non-null     float64\n",
      " 16  firstblood               10 non-null     float64\n",
      " 17  team kpm                 10 non-null     float64\n",
      " 18  ckpm                     10 non-null     float64\n",
      " 19  firstdragon              10 non-null     float64\n",
      " 20  dragons                  10 non-null     float64\n",
      " 21  opp_dragons              10 non-null     float64\n",
      " 22  elementaldrakes          10 non-null     float64\n",
      " 23  opp_elementaldrakes      10 non-null     float64\n",
      " 24  infernals                10 non-null     float64\n",
      " 25  mountains                10 non-null     float64\n",
      " 26  clouds                   10 non-null     float64\n",
      " 27  oceans                   10 non-null     float64\n",
      " 28  dragons (type unknown)   10 non-null     float64\n",
      " 29  elders                   10 non-null     float64\n",
      " 30  opp_elders               10 non-null     float64\n",
      " 31  firstherald              10 non-null     float64\n",
      " 32  heralds                  10 non-null     float64\n",
      " 33  opp_heralds              10 non-null     float64\n",
      " 34  firstbaron               10 non-null     float64\n",
      " 35  barons                   10 non-null     float64\n",
      " 36  opp_barons               10 non-null     float64\n",
      " 37  firsttower               10 non-null     float64\n",
      " 38  towers                   10 non-null     float64\n",
      " 39  opp_towers               10 non-null     float64\n",
      " 40  firstmidtower            10 non-null     float64\n",
      " 41  firsttothreetowers       10 non-null     float64\n",
      " 42  inhibitors               10 non-null     float64\n",
      " 43  opp_inhibitors           10 non-null     float64\n",
      " 44  damagetochampions        10 non-null     int64  \n",
      " 45  dpm                      10 non-null     float64\n",
      " 46  wardsplaced              10 non-null     int64  \n",
      " 47  wpm                      10 non-null     float64\n",
      " 48  wardskilled              10 non-null     int64  \n",
      " 49  wcpm                     10 non-null     float64\n",
      " 50  controlwardsbought       10 non-null     int64  \n",
      " 51  visionscore              10 non-null     float64\n",
      " 52  vspm                     10 non-null     float64\n",
      " 53  totalgold                10 non-null     int64  \n",
      " 54  earnedgold               10 non-null     int64  \n",
      " 55  earned gpm               10 non-null     float64\n",
      " 56  goldspent                10 non-null     float64\n",
      " 57  gspd                     10 non-null     float64\n",
      " 58  minionkills              10 non-null     float64\n",
      " 59  monsterkills             10 non-null     int64  \n",
      " 60  monsterkillsownjungle    10 non-null     int64  \n",
      " 61  monsterkillsenemyjungle  10 non-null     int64  \n",
      " 62  cspm                     10 non-null     float64\n",
      " 63  goldat10                 10 non-null     float64\n",
      " 64  xpat10                   10 non-null     float64\n",
      " 65  csat10                   10 non-null     float64\n",
      " 66  opp_goldat10             10 non-null     float64\n",
      " 67  opp_xpat10               10 non-null     float64\n",
      " 68  opp_csat10               10 non-null     float64\n",
      " 69  golddiffat10             10 non-null     float64\n",
      " 70  xpdiffat10               10 non-null     float64\n",
      " 71  csdiffat10               10 non-null     float64\n",
      " 72  goldat15                 10 non-null     float64\n",
      " 73  xpat15                   10 non-null     float64\n",
      " 74  csat15                   10 non-null     float64\n",
      " 75  opp_goldat15             10 non-null     float64\n",
      " 76  opp_xpat15               10 non-null     float64\n",
      " 77  opp_csat15               10 non-null     float64\n",
      " 78  golddiffat15             10 non-null     float64\n",
      " 79  xpdiffat15               10 non-null     float64\n",
      " 80  csdiffat15               10 non-null     float64\n",
      "dtypes: float64(62), int64(18), object(1)\n",
      "memory usage: 6.5+ KB\n"
     ]
    }
   ],
   "source": [
    "team_data.info()"
   ]
  },
  {
   "cell_type": "code",
   "execution_count": 4,
   "metadata": {},
   "outputs": [
    {
     "data": {
      "text/html": [
       "<div>\n",
       "<style scoped>\n",
       "    .dataframe tbody tr th:only-of-type {\n",
       "        vertical-align: middle;\n",
       "    }\n",
       "\n",
       "    .dataframe tbody tr th {\n",
       "        vertical-align: top;\n",
       "    }\n",
       "\n",
       "    .dataframe thead th {\n",
       "        text-align: right;\n",
       "    }\n",
       "</style>\n",
       "<table border=\"1\" class=\"dataframe\">\n",
       "  <thead>\n",
       "    <tr style=\"text-align: right;\">\n",
       "      <th></th>\n",
       "      <th>team</th>\n",
       "      <th>gamesplayed</th>\n",
       "      <th>Win_Percentage</th>\n",
       "      <th>Wins</th>\n",
       "      <th>Losses</th>\n",
       "      <th>patch</th>\n",
       "      <th>gamelength</th>\n",
       "      <th>kills</th>\n",
       "      <th>deaths</th>\n",
       "      <th>assists</th>\n",
       "      <th>...</th>\n",
       "      <th>csdiffat10</th>\n",
       "      <th>goldat15</th>\n",
       "      <th>xpat15</th>\n",
       "      <th>csat15</th>\n",
       "      <th>opp_goldat15</th>\n",
       "      <th>opp_xpat15</th>\n",
       "      <th>opp_csat15</th>\n",
       "      <th>golddiffat15</th>\n",
       "      <th>xpdiffat15</th>\n",
       "      <th>csdiffat15</th>\n",
       "    </tr>\n",
       "  </thead>\n",
       "  <tbody>\n",
       "    <tr>\n",
       "      <th>0</th>\n",
       "      <td>100 Thieves</td>\n",
       "      <td>343</td>\n",
       "      <td>0.408163</td>\n",
       "      <td>140</td>\n",
       "      <td>203</td>\n",
       "      <td>3458.42</td>\n",
       "      <td>691425</td>\n",
       "      <td>3738</td>\n",
       "      <td>4375</td>\n",
       "      <td>8491</td>\n",
       "      <td>...</td>\n",
       "      <td>-693.0</td>\n",
       "      <td>8119104.0</td>\n",
       "      <td>9819845.0</td>\n",
       "      <td>169897.0</td>\n",
       "      <td>8377873.0</td>\n",
       "      <td>9991499.0</td>\n",
       "      <td>171773.0</td>\n",
       "      <td>-258769.0</td>\n",
       "      <td>-171654.0</td>\n",
       "      <td>-1876.0</td>\n",
       "    </tr>\n",
       "    <tr>\n",
       "      <th>1</th>\n",
       "      <td>Cloud9</td>\n",
       "      <td>350</td>\n",
       "      <td>0.800000</td>\n",
       "      <td>280</td>\n",
       "      <td>70</td>\n",
       "      <td>3529.54</td>\n",
       "      <td>647248</td>\n",
       "      <td>5425</td>\n",
       "      <td>3010</td>\n",
       "      <td>12544</td>\n",
       "      <td>...</td>\n",
       "      <td>5761.0</td>\n",
       "      <td>8965908.0</td>\n",
       "      <td>10442803.0</td>\n",
       "      <td>178570.0</td>\n",
       "      <td>8138984.0</td>\n",
       "      <td>9864554.0</td>\n",
       "      <td>169407.0</td>\n",
       "      <td>826924.0</td>\n",
       "      <td>578249.0</td>\n",
       "      <td>9163.0</td>\n",
       "    </tr>\n",
       "    <tr>\n",
       "      <th>2</th>\n",
       "      <td>Counter Logic Gaming</td>\n",
       "      <td>259</td>\n",
       "      <td>0.216216</td>\n",
       "      <td>56</td>\n",
       "      <td>203</td>\n",
       "      <td>2611.91</td>\n",
       "      <td>536522</td>\n",
       "      <td>2520</td>\n",
       "      <td>3724</td>\n",
       "      <td>6321</td>\n",
       "      <td>...</td>\n",
       "      <td>-973.0</td>\n",
       "      <td>6087998.0</td>\n",
       "      <td>7485695.0</td>\n",
       "      <td>132846.0</td>\n",
       "      <td>6486816.0</td>\n",
       "      <td>7756322.0</td>\n",
       "      <td>135464.0</td>\n",
       "      <td>-398818.0</td>\n",
       "      <td>-270627.0</td>\n",
       "      <td>-2618.0</td>\n",
       "    </tr>\n",
       "    <tr>\n",
       "      <th>3</th>\n",
       "      <td>Dignitas</td>\n",
       "      <td>294</td>\n",
       "      <td>0.357143</td>\n",
       "      <td>105</td>\n",
       "      <td>189</td>\n",
       "      <td>2966.11</td>\n",
       "      <td>606053</td>\n",
       "      <td>2730</td>\n",
       "      <td>3248</td>\n",
       "      <td>6517</td>\n",
       "      <td>...</td>\n",
       "      <td>-2247.0</td>\n",
       "      <td>7049364.0</td>\n",
       "      <td>8534477.0</td>\n",
       "      <td>151025.0</td>\n",
       "      <td>7201586.0</td>\n",
       "      <td>8664747.0</td>\n",
       "      <td>154581.0</td>\n",
       "      <td>-152222.0</td>\n",
       "      <td>-130270.0</td>\n",
       "      <td>-3556.0</td>\n",
       "    </tr>\n",
       "    <tr>\n",
       "      <th>4</th>\n",
       "      <td>Evil Geniuses</td>\n",
       "      <td>399</td>\n",
       "      <td>0.508772</td>\n",
       "      <td>203</td>\n",
       "      <td>196</td>\n",
       "      <td>4025.28</td>\n",
       "      <td>801906</td>\n",
       "      <td>4382</td>\n",
       "      <td>4921</td>\n",
       "      <td>10241</td>\n",
       "      <td>...</td>\n",
       "      <td>-3269.0</td>\n",
       "      <td>9535064.0</td>\n",
       "      <td>11478334.0</td>\n",
       "      <td>197806.0</td>\n",
       "      <td>9719248.0</td>\n",
       "      <td>11602269.0</td>\n",
       "      <td>202692.0</td>\n",
       "      <td>-184184.0</td>\n",
       "      <td>-123935.0</td>\n",
       "      <td>-4886.0</td>\n",
       "    </tr>\n",
       "  </tbody>\n",
       "</table>\n",
       "<p>5 rows × 81 columns</p>\n",
       "</div>"
      ],
      "text/plain": [
       "                   team  gamesplayed  Win_Percentage  Wins  Losses    patch  \\\n",
       "0           100 Thieves          343        0.408163   140     203  3458.42   \n",
       "1                Cloud9          350        0.800000   280      70  3529.54   \n",
       "2  Counter Logic Gaming          259        0.216216    56     203  2611.91   \n",
       "3              Dignitas          294        0.357143   105     189  2966.11   \n",
       "4         Evil Geniuses          399        0.508772   203     196  4025.28   \n",
       "\n",
       "   gamelength  kills  deaths  assists  ...  csdiffat10   goldat15      xpat15  \\\n",
       "0      691425   3738    4375     8491  ...      -693.0  8119104.0   9819845.0   \n",
       "1      647248   5425    3010    12544  ...      5761.0  8965908.0  10442803.0   \n",
       "2      536522   2520    3724     6321  ...      -973.0  6087998.0   7485695.0   \n",
       "3      606053   2730    3248     6517  ...     -2247.0  7049364.0   8534477.0   \n",
       "4      801906   4382    4921    10241  ...     -3269.0  9535064.0  11478334.0   \n",
       "\n",
       "     csat15  opp_goldat15  opp_xpat15  opp_csat15  golddiffat15  xpdiffat15  \\\n",
       "0  169897.0     8377873.0   9991499.0    171773.0     -258769.0   -171654.0   \n",
       "1  178570.0     8138984.0   9864554.0    169407.0      826924.0    578249.0   \n",
       "2  132846.0     6486816.0   7756322.0    135464.0     -398818.0   -270627.0   \n",
       "3  151025.0     7201586.0   8664747.0    154581.0     -152222.0   -130270.0   \n",
       "4  197806.0     9719248.0  11602269.0    202692.0     -184184.0   -123935.0   \n",
       "\n",
       "   csdiffat15  \n",
       "0     -1876.0  \n",
       "1      9163.0  \n",
       "2     -2618.0  \n",
       "3     -3556.0  \n",
       "4     -4886.0  \n",
       "\n",
       "[5 rows x 81 columns]"
      ]
     },
     "execution_count": 4,
     "metadata": {},
     "output_type": "execute_result"
    }
   ],
   "source": [
    "team_data.head()"
   ]
  },
  {
   "cell_type": "code",
   "execution_count": 5,
   "metadata": {},
   "outputs": [],
   "source": [
    "#set index\n",
    "team_data = team_data.set_index('team')\n"
   ]
  },
  {
   "cell_type": "code",
   "execution_count": 6,
   "metadata": {},
   "outputs": [
    {
     "data": {
      "text/html": [
       "<div>\n",
       "<style scoped>\n",
       "    .dataframe tbody tr th:only-of-type {\n",
       "        vertical-align: middle;\n",
       "    }\n",
       "\n",
       "    .dataframe tbody tr th {\n",
       "        vertical-align: top;\n",
       "    }\n",
       "\n",
       "    .dataframe thead th {\n",
       "        text-align: right;\n",
       "    }\n",
       "</style>\n",
       "<table border=\"1\" class=\"dataframe\">\n",
       "  <thead>\n",
       "    <tr style=\"text-align: right;\">\n",
       "      <th></th>\n",
       "      <th>gamesplayed</th>\n",
       "      <th>Win_Percentage</th>\n",
       "      <th>Wins</th>\n",
       "      <th>Losses</th>\n",
       "      <th>patch</th>\n",
       "      <th>gamelength</th>\n",
       "      <th>kills</th>\n",
       "      <th>deaths</th>\n",
       "      <th>assists</th>\n",
       "      <th>teamkills</th>\n",
       "      <th>...</th>\n",
       "      <th>csdiffat10</th>\n",
       "      <th>goldat15</th>\n",
       "      <th>xpat15</th>\n",
       "      <th>csat15</th>\n",
       "      <th>opp_goldat15</th>\n",
       "      <th>opp_xpat15</th>\n",
       "      <th>opp_csat15</th>\n",
       "      <th>golddiffat15</th>\n",
       "      <th>xpdiffat15</th>\n",
       "      <th>csdiffat15</th>\n",
       "    </tr>\n",
       "    <tr>\n",
       "      <th>team</th>\n",
       "      <th></th>\n",
       "      <th></th>\n",
       "      <th></th>\n",
       "      <th></th>\n",
       "      <th></th>\n",
       "      <th></th>\n",
       "      <th></th>\n",
       "      <th></th>\n",
       "      <th></th>\n",
       "      <th></th>\n",
       "      <th></th>\n",
       "      <th></th>\n",
       "      <th></th>\n",
       "      <th></th>\n",
       "      <th></th>\n",
       "      <th></th>\n",
       "      <th></th>\n",
       "      <th></th>\n",
       "      <th></th>\n",
       "      <th></th>\n",
       "      <th></th>\n",
       "    </tr>\n",
       "  </thead>\n",
       "  <tbody>\n",
       "    <tr>\n",
       "      <th>100 Thieves</th>\n",
       "      <td>343</td>\n",
       "      <td>0.408163</td>\n",
       "      <td>140</td>\n",
       "      <td>203</td>\n",
       "      <td>3458.42</td>\n",
       "      <td>691425</td>\n",
       "      <td>3738</td>\n",
       "      <td>4375</td>\n",
       "      <td>8491</td>\n",
       "      <td>3738</td>\n",
       "      <td>...</td>\n",
       "      <td>-693.0</td>\n",
       "      <td>8119104.0</td>\n",
       "      <td>9819845.0</td>\n",
       "      <td>169897.0</td>\n",
       "      <td>8377873.0</td>\n",
       "      <td>9991499.0</td>\n",
       "      <td>171773.0</td>\n",
       "      <td>-258769.0</td>\n",
       "      <td>-171654.0</td>\n",
       "      <td>-1876.0</td>\n",
       "    </tr>\n",
       "    <tr>\n",
       "      <th>Cloud9</th>\n",
       "      <td>350</td>\n",
       "      <td>0.800000</td>\n",
       "      <td>280</td>\n",
       "      <td>70</td>\n",
       "      <td>3529.54</td>\n",
       "      <td>647248</td>\n",
       "      <td>5425</td>\n",
       "      <td>3010</td>\n",
       "      <td>12544</td>\n",
       "      <td>5425</td>\n",
       "      <td>...</td>\n",
       "      <td>5761.0</td>\n",
       "      <td>8965908.0</td>\n",
       "      <td>10442803.0</td>\n",
       "      <td>178570.0</td>\n",
       "      <td>8138984.0</td>\n",
       "      <td>9864554.0</td>\n",
       "      <td>169407.0</td>\n",
       "      <td>826924.0</td>\n",
       "      <td>578249.0</td>\n",
       "      <td>9163.0</td>\n",
       "    </tr>\n",
       "    <tr>\n",
       "      <th>Counter Logic Gaming</th>\n",
       "      <td>259</td>\n",
       "      <td>0.216216</td>\n",
       "      <td>56</td>\n",
       "      <td>203</td>\n",
       "      <td>2611.91</td>\n",
       "      <td>536522</td>\n",
       "      <td>2520</td>\n",
       "      <td>3724</td>\n",
       "      <td>6321</td>\n",
       "      <td>2520</td>\n",
       "      <td>...</td>\n",
       "      <td>-973.0</td>\n",
       "      <td>6087998.0</td>\n",
       "      <td>7485695.0</td>\n",
       "      <td>132846.0</td>\n",
       "      <td>6486816.0</td>\n",
       "      <td>7756322.0</td>\n",
       "      <td>135464.0</td>\n",
       "      <td>-398818.0</td>\n",
       "      <td>-270627.0</td>\n",
       "      <td>-2618.0</td>\n",
       "    </tr>\n",
       "    <tr>\n",
       "      <th>Dignitas</th>\n",
       "      <td>294</td>\n",
       "      <td>0.357143</td>\n",
       "      <td>105</td>\n",
       "      <td>189</td>\n",
       "      <td>2966.11</td>\n",
       "      <td>606053</td>\n",
       "      <td>2730</td>\n",
       "      <td>3248</td>\n",
       "      <td>6517</td>\n",
       "      <td>2730</td>\n",
       "      <td>...</td>\n",
       "      <td>-2247.0</td>\n",
       "      <td>7049364.0</td>\n",
       "      <td>8534477.0</td>\n",
       "      <td>151025.0</td>\n",
       "      <td>7201586.0</td>\n",
       "      <td>8664747.0</td>\n",
       "      <td>154581.0</td>\n",
       "      <td>-152222.0</td>\n",
       "      <td>-130270.0</td>\n",
       "      <td>-3556.0</td>\n",
       "    </tr>\n",
       "    <tr>\n",
       "      <th>Evil Geniuses</th>\n",
       "      <td>399</td>\n",
       "      <td>0.508772</td>\n",
       "      <td>203</td>\n",
       "      <td>196</td>\n",
       "      <td>4025.28</td>\n",
       "      <td>801906</td>\n",
       "      <td>4382</td>\n",
       "      <td>4921</td>\n",
       "      <td>10241</td>\n",
       "      <td>4382</td>\n",
       "      <td>...</td>\n",
       "      <td>-3269.0</td>\n",
       "      <td>9535064.0</td>\n",
       "      <td>11478334.0</td>\n",
       "      <td>197806.0</td>\n",
       "      <td>9719248.0</td>\n",
       "      <td>11602269.0</td>\n",
       "      <td>202692.0</td>\n",
       "      <td>-184184.0</td>\n",
       "      <td>-123935.0</td>\n",
       "      <td>-4886.0</td>\n",
       "    </tr>\n",
       "  </tbody>\n",
       "</table>\n",
       "<p>5 rows × 80 columns</p>\n",
       "</div>"
      ],
      "text/plain": [
       "                      gamesplayed  Win_Percentage  Wins  Losses    patch  \\\n",
       "team                                                                       \n",
       "100 Thieves                   343        0.408163   140     203  3458.42   \n",
       "Cloud9                        350        0.800000   280      70  3529.54   \n",
       "Counter Logic Gaming          259        0.216216    56     203  2611.91   \n",
       "Dignitas                      294        0.357143   105     189  2966.11   \n",
       "Evil Geniuses                 399        0.508772   203     196  4025.28   \n",
       "\n",
       "                      gamelength  kills  deaths  assists  teamkills  ...  \\\n",
       "team                                                                 ...   \n",
       "100 Thieves               691425   3738    4375     8491       3738  ...   \n",
       "Cloud9                    647248   5425    3010    12544       5425  ...   \n",
       "Counter Logic Gaming      536522   2520    3724     6321       2520  ...   \n",
       "Dignitas                  606053   2730    3248     6517       2730  ...   \n",
       "Evil Geniuses             801906   4382    4921    10241       4382  ...   \n",
       "\n",
       "                      csdiffat10   goldat15      xpat15    csat15  \\\n",
       "team                                                                \n",
       "100 Thieves               -693.0  8119104.0   9819845.0  169897.0   \n",
       "Cloud9                    5761.0  8965908.0  10442803.0  178570.0   \n",
       "Counter Logic Gaming      -973.0  6087998.0   7485695.0  132846.0   \n",
       "Dignitas                 -2247.0  7049364.0   8534477.0  151025.0   \n",
       "Evil Geniuses            -3269.0  9535064.0  11478334.0  197806.0   \n",
       "\n",
       "                      opp_goldat15  opp_xpat15  opp_csat15  golddiffat15  \\\n",
       "team                                                                       \n",
       "100 Thieves              8377873.0   9991499.0    171773.0     -258769.0   \n",
       "Cloud9                   8138984.0   9864554.0    169407.0      826924.0   \n",
       "Counter Logic Gaming     6486816.0   7756322.0    135464.0     -398818.0   \n",
       "Dignitas                 7201586.0   8664747.0    154581.0     -152222.0   \n",
       "Evil Geniuses            9719248.0  11602269.0    202692.0     -184184.0   \n",
       "\n",
       "                      xpdiffat15  csdiffat15  \n",
       "team                                          \n",
       "100 Thieves            -171654.0     -1876.0  \n",
       "Cloud9                  578249.0      9163.0  \n",
       "Counter Logic Gaming   -270627.0     -2618.0  \n",
       "Dignitas               -130270.0     -3556.0  \n",
       "Evil Geniuses          -123935.0     -4886.0  \n",
       "\n",
       "[5 rows x 80 columns]"
      ]
     },
     "execution_count": 6,
     "metadata": {},
     "output_type": "execute_result"
    }
   ],
   "source": [
    "team_data.head()"
   ]
  },
  {
   "cell_type": "code",
   "execution_count": 7,
   "metadata": {},
   "outputs": [
    {
     "data": {
      "text/plain": [
       "gamesplayed       0\n",
       "Win_Percentage    0\n",
       "Wins              0\n",
       "Losses            0\n",
       "patch             0\n",
       "                 ..\n",
       "opp_xpat15        0\n",
       "opp_csat15        0\n",
       "golddiffat15      0\n",
       "xpdiffat15        0\n",
       "csdiffat15        0\n",
       "Length: 80, dtype: int64"
      ]
     },
     "execution_count": 7,
     "metadata": {},
     "output_type": "execute_result"
    }
   ],
   "source": [
    "#Check for NAs\n",
    "team_data.isnull().sum()"
   ]
  },
  {
   "cell_type": "code",
   "execution_count": 8,
   "metadata": {},
   "outputs": [
    {
     "data": {
      "text/html": [
       "<div>\n",
       "<style scoped>\n",
       "    .dataframe tbody tr th:only-of-type {\n",
       "        vertical-align: middle;\n",
       "    }\n",
       "\n",
       "    .dataframe tbody tr th {\n",
       "        vertical-align: top;\n",
       "    }\n",
       "\n",
       "    .dataframe thead th {\n",
       "        text-align: right;\n",
       "    }\n",
       "</style>\n",
       "<table border=\"1\" class=\"dataframe\">\n",
       "  <thead>\n",
       "    <tr style=\"text-align: right;\">\n",
       "      <th></th>\n",
       "      <th>gamesplayed</th>\n",
       "      <th>Win_Percentage</th>\n",
       "      <th>Wins</th>\n",
       "      <th>Losses</th>\n",
       "      <th>patch</th>\n",
       "      <th>gamelength</th>\n",
       "      <th>kills</th>\n",
       "      <th>deaths</th>\n",
       "      <th>assists</th>\n",
       "      <th>teamkills</th>\n",
       "      <th>...</th>\n",
       "      <th>csdiffat10</th>\n",
       "      <th>goldat15</th>\n",
       "      <th>xpat15</th>\n",
       "      <th>csat15</th>\n",
       "      <th>opp_goldat15</th>\n",
       "      <th>opp_xpat15</th>\n",
       "      <th>opp_csat15</th>\n",
       "      <th>golddiffat15</th>\n",
       "      <th>xpdiffat15</th>\n",
       "      <th>csdiffat15</th>\n",
       "    </tr>\n",
       "  </thead>\n",
       "  <tbody>\n",
       "    <tr>\n",
       "      <th>count</th>\n",
       "      <td>10.000000</td>\n",
       "      <td>10.000000</td>\n",
       "      <td>10.000000</td>\n",
       "      <td>10.000000</td>\n",
       "      <td>10.000000</td>\n",
       "      <td>10.000000</td>\n",
       "      <td>10.000000</td>\n",
       "      <td>10.000000</td>\n",
       "      <td>10.000000</td>\n",
       "      <td>10.000000</td>\n",
       "      <td>...</td>\n",
       "      <td>10.000000</td>\n",
       "      <td>1.000000e+01</td>\n",
       "      <td>1.000000e+01</td>\n",
       "      <td>10.000000</td>\n",
       "      <td>1.000000e+01</td>\n",
       "      <td>1.000000e+01</td>\n",
       "      <td>10.000000</td>\n",
       "      <td>10.000000</td>\n",
       "      <td>10.000000</td>\n",
       "      <td>10.000000</td>\n",
       "    </tr>\n",
       "    <tr>\n",
       "      <th>mean</th>\n",
       "      <td>327.600000</td>\n",
       "      <td>0.485641</td>\n",
       "      <td>163.800000</td>\n",
       "      <td>163.800000</td>\n",
       "      <td>3304.042000</td>\n",
       "      <td>670861.800000</td>\n",
       "      <td>3661.700000</td>\n",
       "      <td>3665.200000</td>\n",
       "      <td>8736.700000</td>\n",
       "      <td>3661.700000</td>\n",
       "      <td>...</td>\n",
       "      <td>0.000000</td>\n",
       "      <td>7.915723e+06</td>\n",
       "      <td>9.503558e+06</td>\n",
       "      <td>166394.200000</td>\n",
       "      <td>7.915723e+06</td>\n",
       "      <td>9.503558e+06</td>\n",
       "      <td>166394.200000</td>\n",
       "      <td>0.000000</td>\n",
       "      <td>0.000000</td>\n",
       "      <td>0.000000</td>\n",
       "    </tr>\n",
       "    <tr>\n",
       "      <th>std</th>\n",
       "      <td>66.963008</td>\n",
       "      <td>0.167073</td>\n",
       "      <td>74.095734</td>\n",
       "      <td>45.628451</td>\n",
       "      <td>675.738212</td>\n",
       "      <td>129458.832582</td>\n",
       "      <td>1283.746691</td>\n",
       "      <td>861.194106</td>\n",
       "      <td>3050.100364</td>\n",
       "      <td>1283.746691</td>\n",
       "      <td>...</td>\n",
       "      <td>2937.691686</td>\n",
       "      <td>1.688328e+06</td>\n",
       "      <td>1.946924e+06</td>\n",
       "      <td>32717.002086</td>\n",
       "      <td>1.595214e+06</td>\n",
       "      <td>1.884294e+06</td>\n",
       "      <td>32643.522334</td>\n",
       "      <td>344631.146912</td>\n",
       "      <td>244477.562533</td>\n",
       "      <td>4522.214305</td>\n",
       "    </tr>\n",
       "    <tr>\n",
       "      <th>min</th>\n",
       "      <td>252.000000</td>\n",
       "      <td>0.216216</td>\n",
       "      <td>56.000000</td>\n",
       "      <td>70.000000</td>\n",
       "      <td>2540.860000</td>\n",
       "      <td>533869.000000</td>\n",
       "      <td>2086.000000</td>\n",
       "      <td>2065.000000</td>\n",
       "      <td>5005.000000</td>\n",
       "      <td>2086.000000</td>\n",
       "      <td>...</td>\n",
       "      <td>-3269.000000</td>\n",
       "      <td>6.066032e+06</td>\n",
       "      <td>7.349671e+06</td>\n",
       "      <td>129857.000000</td>\n",
       "      <td>6.016010e+06</td>\n",
       "      <td>7.235914e+06</td>\n",
       "      <td>127113.000000</td>\n",
       "      <td>-398818.000000</td>\n",
       "      <td>-270627.000000</td>\n",
       "      <td>-4886.000000</td>\n",
       "    </tr>\n",
       "    <tr>\n",
       "      <th>25%</th>\n",
       "      <td>267.750000</td>\n",
       "      <td>0.369898</td>\n",
       "      <td>113.750000</td>\n",
       "      <td>155.750000</td>\n",
       "      <td>2700.460000</td>\n",
       "      <td>571823.000000</td>\n",
       "      <td>2703.750000</td>\n",
       "      <td>3237.500000</td>\n",
       "      <td>6531.000000</td>\n",
       "      <td>2703.750000</td>\n",
       "      <td>...</td>\n",
       "      <td>-2227.750000</td>\n",
       "      <td>6.340178e+06</td>\n",
       "      <td>7.747890e+06</td>\n",
       "      <td>137390.750000</td>\n",
       "      <td>6.660381e+06</td>\n",
       "      <td>7.983428e+06</td>\n",
       "      <td>140035.000000</td>\n",
       "      <td>-226567.250000</td>\n",
       "      <td>-161308.000000</td>\n",
       "      <td>-3321.500000</td>\n",
       "    </tr>\n",
       "    <tr>\n",
       "      <th>50%</th>\n",
       "      <td>322.000000</td>\n",
       "      <td>0.498572</td>\n",
       "      <td>150.500000</td>\n",
       "      <td>182.000000</td>\n",
       "      <td>3247.160000</td>\n",
       "      <td>637703.500000</td>\n",
       "      <td>3325.000000</td>\n",
       "      <td>3650.500000</td>\n",
       "      <td>7738.500000</td>\n",
       "      <td>3325.000000</td>\n",
       "      <td>...</td>\n",
       "      <td>-833.000000</td>\n",
       "      <td>7.718410e+06</td>\n",
       "      <td>9.343544e+06</td>\n",
       "      <td>164206.000000</td>\n",
       "      <td>7.670285e+06</td>\n",
       "      <td>9.319009e+06</td>\n",
       "      <td>161994.000000</td>\n",
       "      <td>-40894.000000</td>\n",
       "      <td>-68264.000000</td>\n",
       "      <td>-962.500000</td>\n",
       "    </tr>\n",
       "    <tr>\n",
       "      <th>75%</th>\n",
       "      <td>360.500000</td>\n",
       "      <td>0.577885</td>\n",
       "      <td>203.000000</td>\n",
       "      <td>194.250000</td>\n",
       "      <td>3636.220000</td>\n",
       "      <td>752487.750000</td>\n",
       "      <td>4366.250000</td>\n",
       "      <td>4212.250000</td>\n",
       "      <td>10277.750000</td>\n",
       "      <td>4366.250000</td>\n",
       "      <td>...</td>\n",
       "      <td>1771.000000</td>\n",
       "      <td>8.939161e+06</td>\n",
       "      <td>1.049553e+07</td>\n",
       "      <td>183106.000000</td>\n",
       "      <td>8.653970e+06</td>\n",
       "      <td>1.039215e+07</td>\n",
       "      <td>181443.500000</td>\n",
       "      <td>106631.000000</td>\n",
       "      <td>98420.000000</td>\n",
       "      <td>2511.250000</td>\n",
       "    </tr>\n",
       "    <tr>\n",
       "      <th>max</th>\n",
       "      <td>455.000000</td>\n",
       "      <td>0.800000</td>\n",
       "      <td>280.000000</td>\n",
       "      <td>203.000000</td>\n",
       "      <td>4589.340000</td>\n",
       "      <td>930181.000000</td>\n",
       "      <td>5810.000000</td>\n",
       "      <td>4921.000000</td>\n",
       "      <td>14399.000000</td>\n",
       "      <td>5810.000000</td>\n",
       "      <td>...</td>\n",
       "      <td>5761.000000</td>\n",
       "      <td>1.105334e+07</td>\n",
       "      <td>1.318569e+07</td>\n",
       "      <td>230419.000000</td>\n",
       "      <td>1.098291e+07</td>\n",
       "      <td>1.308572e+07</td>\n",
       "      <td>230202.000000</td>\n",
       "      <td>826924.000000</td>\n",
       "      <td>578249.000000</td>\n",
       "      <td>9163.000000</td>\n",
       "    </tr>\n",
       "  </tbody>\n",
       "</table>\n",
       "<p>8 rows × 80 columns</p>\n",
       "</div>"
      ],
      "text/plain": [
       "       gamesplayed  Win_Percentage        Wins      Losses        patch  \\\n",
       "count    10.000000       10.000000   10.000000   10.000000    10.000000   \n",
       "mean    327.600000        0.485641  163.800000  163.800000  3304.042000   \n",
       "std      66.963008        0.167073   74.095734   45.628451   675.738212   \n",
       "min     252.000000        0.216216   56.000000   70.000000  2540.860000   \n",
       "25%     267.750000        0.369898  113.750000  155.750000  2700.460000   \n",
       "50%     322.000000        0.498572  150.500000  182.000000  3247.160000   \n",
       "75%     360.500000        0.577885  203.000000  194.250000  3636.220000   \n",
       "max     455.000000        0.800000  280.000000  203.000000  4589.340000   \n",
       "\n",
       "          gamelength        kills       deaths       assists    teamkills  \\\n",
       "count      10.000000    10.000000    10.000000     10.000000    10.000000   \n",
       "mean   670861.800000  3661.700000  3665.200000   8736.700000  3661.700000   \n",
       "std    129458.832582  1283.746691   861.194106   3050.100364  1283.746691   \n",
       "min    533869.000000  2086.000000  2065.000000   5005.000000  2086.000000   \n",
       "25%    571823.000000  2703.750000  3237.500000   6531.000000  2703.750000   \n",
       "50%    637703.500000  3325.000000  3650.500000   7738.500000  3325.000000   \n",
       "75%    752487.750000  4366.250000  4212.250000  10277.750000  4366.250000   \n",
       "max    930181.000000  5810.000000  4921.000000  14399.000000  5810.000000   \n",
       "\n",
       "       ...   csdiffat10      goldat15        xpat15         csat15  \\\n",
       "count  ...    10.000000  1.000000e+01  1.000000e+01      10.000000   \n",
       "mean   ...     0.000000  7.915723e+06  9.503558e+06  166394.200000   \n",
       "std    ...  2937.691686  1.688328e+06  1.946924e+06   32717.002086   \n",
       "min    ... -3269.000000  6.066032e+06  7.349671e+06  129857.000000   \n",
       "25%    ... -2227.750000  6.340178e+06  7.747890e+06  137390.750000   \n",
       "50%    ...  -833.000000  7.718410e+06  9.343544e+06  164206.000000   \n",
       "75%    ...  1771.000000  8.939161e+06  1.049553e+07  183106.000000   \n",
       "max    ...  5761.000000  1.105334e+07  1.318569e+07  230419.000000   \n",
       "\n",
       "       opp_goldat15    opp_xpat15     opp_csat15   golddiffat15  \\\n",
       "count  1.000000e+01  1.000000e+01      10.000000      10.000000   \n",
       "mean   7.915723e+06  9.503558e+06  166394.200000       0.000000   \n",
       "std    1.595214e+06  1.884294e+06   32643.522334  344631.146912   \n",
       "min    6.016010e+06  7.235914e+06  127113.000000 -398818.000000   \n",
       "25%    6.660381e+06  7.983428e+06  140035.000000 -226567.250000   \n",
       "50%    7.670285e+06  9.319009e+06  161994.000000  -40894.000000   \n",
       "75%    8.653970e+06  1.039215e+07  181443.500000  106631.000000   \n",
       "max    1.098291e+07  1.308572e+07  230202.000000  826924.000000   \n",
       "\n",
       "          xpdiffat15   csdiffat15  \n",
       "count      10.000000    10.000000  \n",
       "mean        0.000000     0.000000  \n",
       "std    244477.562533  4522.214305  \n",
       "min   -270627.000000 -4886.000000  \n",
       "25%   -161308.000000 -3321.500000  \n",
       "50%    -68264.000000  -962.500000  \n",
       "75%     98420.000000  2511.250000  \n",
       "max    578249.000000  9163.000000  \n",
       "\n",
       "[8 rows x 80 columns]"
      ]
     },
     "execution_count": 8,
     "metadata": {},
     "output_type": "execute_result"
    }
   ],
   "source": [
    "#lets see some summary stats\n",
    "team_data.describe()"
   ]
  },
  {
   "cell_type": "code",
   "execution_count": 9,
   "metadata": {},
   "outputs": [
    {
     "data": {
      "text/plain": [
       "gamesplayed         int64\n",
       "Win_Percentage    float64\n",
       "Wins                int64\n",
       "Losses              int64\n",
       "patch             float64\n",
       "                   ...   \n",
       "opp_xpat15        float64\n",
       "opp_csat15        float64\n",
       "golddiffat15      float64\n",
       "xpdiffat15        float64\n",
       "csdiffat15        float64\n",
       "Length: 80, dtype: object"
      ]
     },
     "execution_count": 9,
     "metadata": {},
     "output_type": "execute_result"
    }
   ],
   "source": [
    "#assess data types\n",
    "team_data.dtypes"
   ]
  },
  {
   "cell_type": "code",
   "execution_count": 10,
   "metadata": {},
   "outputs": [
    {
     "data": {
      "text/plain": [
       "Index(['gamesplayed', 'Win_Percentage', 'Wins', 'Losses', 'patch',\n",
       "       'gamelength', 'kills', 'deaths', 'assists', 'teamkills', 'teamdeaths',\n",
       "       'doublekills', 'triplekills', 'quadrakills', 'pentakills', 'firstblood',\n",
       "       'team kpm', 'ckpm', 'firstdragon', 'dragons', 'opp_dragons',\n",
       "       'elementaldrakes', 'opp_elementaldrakes', 'infernals', 'mountains',\n",
       "       'clouds', 'oceans', 'dragons (type unknown)', 'elders', 'opp_elders',\n",
       "       'firstherald', 'heralds', 'opp_heralds', 'firstbaron', 'barons',\n",
       "       'opp_barons', 'firsttower', 'towers', 'opp_towers', 'firstmidtower',\n",
       "       'firsttothreetowers', 'inhibitors', 'opp_inhibitors',\n",
       "       'damagetochampions', 'dpm', 'wardsplaced', 'wpm', 'wardskilled', 'wcpm',\n",
       "       'controlwardsbought', 'visionscore', 'vspm', 'totalgold', 'earnedgold',\n",
       "       'earned gpm', 'goldspent', 'gspd', 'minionkills', 'monsterkills',\n",
       "       'monsterkillsownjungle', 'monsterkillsenemyjungle', 'cspm', 'goldat10',\n",
       "       'xpat10', 'csat10', 'opp_goldat10', 'opp_xpat10', 'opp_csat10',\n",
       "       'golddiffat10', 'xpdiffat10', 'csdiffat10', 'goldat15', 'xpat15',\n",
       "       'csat15', 'opp_goldat15', 'opp_xpat15', 'opp_csat15', 'golddiffat15',\n",
       "       'xpdiffat15', 'csdiffat15'],\n",
       "      dtype='object')"
      ]
     },
     "execution_count": 10,
     "metadata": {},
     "output_type": "execute_result"
    }
   ],
   "source": [
    "#get the columns\n",
    "team_data.columns"
   ]
  },
  {
   "cell_type": "code",
   "execution_count": 11,
   "metadata": {},
   "outputs": [
    {
     "data": {
      "text/plain": [
       "0.584615    1\n",
       "0.488372    1\n",
       "0.216216    1\n",
       "0.611111    1\n",
       "0.800000    1\n",
       "0.408163    1\n",
       "0.557692    1\n",
       "0.324324    1\n",
       "0.357143    1\n",
       "0.508772    1\n",
       "Name: Win_Percentage, dtype: int64"
      ]
     },
     "execution_count": 11,
     "metadata": {},
     "output_type": "execute_result"
    }
   ],
   "source": [
    "team_data.Win_Percentage.value_counts()"
   ]
  },
  {
   "cell_type": "code",
   "execution_count": 12,
   "metadata": {},
   "outputs": [
    {
     "data": {
      "text/plain": [
       "team\n",
       "Cloud9           0.800000\n",
       "Team Liquid      0.611111\n",
       "FlyQuest         0.584615\n",
       "Team SoloMid     0.557692\n",
       "Evil Geniuses    0.508772\n",
       "Name: Win_Percentage, dtype: float64"
      ]
     },
     "execution_count": 12,
     "metadata": {},
     "output_type": "execute_result"
    }
   ],
   "source": [
    "#lets see who has highest win percentage\n",
    "team_data.Win_Percentage.sort_values(ascending=False).head()"
   ]
  },
  {
   "cell_type": "code",
   "execution_count": 13,
   "metadata": {},
   "outputs": [
    {
     "data": {
      "text/plain": [
       "team\n",
       "FlyQuest         5810\n",
       "Cloud9           5425\n",
       "Evil Geniuses    4382\n",
       "Team SoloMid     4319\n",
       "100 Thieves      3738\n",
       "Name: kills, dtype: int64"
      ]
     },
     "execution_count": 13,
     "metadata": {},
     "output_type": "execute_result"
    }
   ],
   "source": [
    "#lets see who has highest win percentage\n",
    "team_data.kills.sort_values(ascending=False).head()"
   ]
  },
  {
   "cell_type": "markdown",
   "metadata": {},
   "source": [
    "We find that of the 5 teams with the highest win percentages, 4 of them have the highest number of kills. "
   ]
  },
  {
   "cell_type": "code",
   "execution_count": 14,
   "metadata": {},
   "outputs": [
    {
     "data": {
      "text/plain": [
       "team\n",
       "FlyQuest         14399\n",
       "Cloud9           12544\n",
       "Team SoloMid     10290\n",
       "Evil Geniuses    10241\n",
       "100 Thieves       8491\n",
       "Name: assists, dtype: int64"
      ]
     },
     "execution_count": 14,
     "metadata": {},
     "output_type": "execute_result"
    }
   ],
   "source": [
    "#lets see who has highest win percentage\n",
    "team_data.assists.sort_values(ascending=False).head()"
   ]
  },
  {
   "cell_type": "markdown",
   "metadata": {},
   "source": [
    "Again, of the 5 teams with the highest win percentages, 4 of them rank highest on assists. This is likely another important feature. "
   ]
  },
  {
   "cell_type": "code",
   "execution_count": 15,
   "metadata": {},
   "outputs": [
    {
     "data": {
      "text/plain": [
       "team\n",
       "FlyQuest         273.0\n",
       "Team SoloMid     231.0\n",
       "Cloud9           210.0\n",
       "Evil Geniuses    189.0\n",
       "100 Thieves      154.0\n",
       "Name: firstblood, dtype: float64"
      ]
     },
     "execution_count": 15,
     "metadata": {},
     "output_type": "execute_result"
    }
   ],
   "source": [
    "team_data.firstblood.sort_values(ascending=False).head()"
   ]
  },
  {
   "cell_type": "markdown",
   "metadata": {},
   "source": [
    "Turns out first blood is also important, with 4 of the teams drawing first blood (getting first kill) in the match having the highest win percentages."
   ]
  },
  {
   "cell_type": "code",
   "execution_count": 16,
   "metadata": {},
   "outputs": [],
   "source": [
    "#lets track our important features\n",
    "key_stats = ['Win_Percentage', 'Wins', 'Losses', 'kills', 'assists', 'firstblood']"
   ]
  },
  {
   "cell_type": "code",
   "execution_count": 17,
   "metadata": {},
   "outputs": [
    {
     "data": {
      "text/plain": [
       "team\n",
       "Cloud9              238.0\n",
       "Evil Geniuses       224.0\n",
       "Team SoloMid        182.0\n",
       "Golden Guardians    175.0\n",
       "FlyQuest            175.0\n",
       "Name: firstdragon, dtype: float64"
      ]
     },
     "execution_count": 17,
     "metadata": {},
     "output_type": "execute_result"
    }
   ],
   "source": [
    "team_data.firstdragon.sort_values(ascending=False).head()\n"
   ]
  },
  {
   "cell_type": "markdown",
   "metadata": {},
   "source": [
    "Here, 4 of the 5 teams again show up. Interestingly Team Liquid has not shown up in any of these feature sets despite having the second highest win percentage..."
   ]
  },
  {
   "cell_type": "code",
   "execution_count": 18,
   "metadata": {},
   "outputs": [],
   "source": [
    "#add this as another key feature\n",
    "key_stats.append('firstdragon')"
   ]
  },
  {
   "cell_type": "code",
   "execution_count": 19,
   "metadata": {},
   "outputs": [
    {
     "data": {
      "text/plain": [
       "team\n",
       "FlyQuest         287.0\n",
       "Cloud9           259.0\n",
       "Team SoloMid     231.0\n",
       "Evil Geniuses    210.0\n",
       "100 Thieves      210.0\n",
       "Name: mountains, dtype: float64"
      ]
     },
     "execution_count": 19,
     "metadata": {},
     "output_type": "execute_result"
    }
   ],
   "source": [
    "team_data.mountains.sort_values(ascending=False).head()"
   ]
  },
  {
   "cell_type": "code",
   "execution_count": 20,
   "metadata": {},
   "outputs": [],
   "source": [
    "key_stats.append('mountains')"
   ]
  },
  {
   "cell_type": "code",
   "execution_count": 21,
   "metadata": {},
   "outputs": [
    {
     "data": {
      "text/plain": [
       "team\n",
       "100 Thieves      273.0\n",
       "FlyQuest         266.0\n",
       "Team SoloMid     252.0\n",
       "Evil Geniuses    245.0\n",
       "Cloud9           245.0\n",
       "Name: oceans, dtype: float64"
      ]
     },
     "execution_count": 21,
     "metadata": {},
     "output_type": "execute_result"
    }
   ],
   "source": [
    "team_data.oceans.sort_values(ascending=False).head()"
   ]
  },
  {
   "cell_type": "code",
   "execution_count": 22,
   "metadata": {},
   "outputs": [],
   "source": [
    "key_stats.append('oceans')"
   ]
  },
  {
   "cell_type": "code",
   "execution_count": 23,
   "metadata": {},
   "outputs": [],
   "source": [
    "other_key_stats = ['deaths', 'firstblood','assists', 'wardskilled', 'controlwardsbought', 'firsttower', 'towers', 'firsttothreetowers', 'totalgold', 'earnedgold', 'goldspent', 'minionkills', 'monsterkills', 'inhibitors']\n"
   ]
  },
  {
   "cell_type": "code",
   "execution_count": 24,
   "metadata": {},
   "outputs": [],
   "source": [
    "key_stats = key_stats + other_key_stats "
   ]
  },
  {
   "cell_type": "code",
   "execution_count": 25,
   "metadata": {},
   "outputs": [
    {
     "data": {
      "text/plain": [
       "['Win_Percentage',\n",
       " 'Wins',\n",
       " 'Losses',\n",
       " 'kills',\n",
       " 'assists',\n",
       " 'firstblood',\n",
       " 'firstdragon',\n",
       " 'mountains',\n",
       " 'oceans',\n",
       " 'deaths',\n",
       " 'firstblood',\n",
       " 'assists',\n",
       " 'wardskilled',\n",
       " 'controlwardsbought',\n",
       " 'firsttower',\n",
       " 'towers',\n",
       " 'firsttothreetowers',\n",
       " 'totalgold',\n",
       " 'earnedgold',\n",
       " 'goldspent',\n",
       " 'minionkills',\n",
       " 'monsterkills',\n",
       " 'inhibitors']"
      ]
     },
     "execution_count": 25,
     "metadata": {},
     "output_type": "execute_result"
    }
   ],
   "source": [
    "key_stats"
   ]
  },
  {
   "cell_type": "code",
   "execution_count": 26,
   "metadata": {},
   "outputs": [],
   "source": [
    "df_key_stats = team_data[key_stats]"
   ]
  },
  {
   "cell_type": "code",
   "execution_count": 27,
   "metadata": {},
   "outputs": [
    {
     "data": {
      "image/png": "[encoded data removed]",
      "text/plain": [
       "<Figure size 864x648 with 2 Axes>"
      ]
     },
     "metadata": {
      "needs_background": "light"
     },
     "output_type": "display_data"
    }
   ],
   "source": [
    "corrmat = df_key_stats.corr()\n",
    "f, ax = plt.subplots(figsize=(12, 9))\n",
    "hm = sns.heatmap(round(corrmat,2), annot=True, ax=ax, cmap=\"coolwarm\",fmt='.2f',\n",
    "                 linewidths=.05)\n",
    "f.subplots_adjust(top=0.93)\n",
    "t= f.suptitle('Match Data Feature Correlation for all LoL matches', fontsize=14)"
   ]
  },
  {
   "cell_type": "markdown",
   "metadata": {},
   "source": [
    "Here we can see that kills, assists, and firsttower are among the most important features with correlations higher than 0.93"
   ]
  },
  {
   "cell_type": "code",
   "execution_count": 28,
   "metadata": {},
   "outputs": [
    {
     "data": {
      "text/plain": [
       "<AxesSubplot:>"
      ]
     },
     "execution_count": 28,
     "metadata": {},
     "output_type": "execute_result"
    },
    {
     "data": {
      "image/png": "[encoded data removed]",
      "text/plain": [
       "<Figure size 432x288 with 1 Axes>"
      ]
     },
     "metadata": {
      "needs_background": "light"
     },
     "output_type": "display_data"
    }
   ],
   "source": [
    "df_key_stats.kills.hist()"
   ]
  },
  {
   "cell_type": "code",
   "execution_count": 29,
   "metadata": {},
   "outputs": [
    {
     "data": {
      "text/plain": [
       "<AxesSubplot:>"
      ]
     },
     "execution_count": 29,
     "metadata": {},
     "output_type": "execute_result"
    },
    {
     "data": {
      "image/png": "[encoded data removed]",
      "text/plain": [
       "<Figure size 432x288 with 1 Axes>"
      ]
     },
     "metadata": {
      "needs_background": "light"
     },
     "output_type": "display_data"
    }
   ],
   "source": [
    "df_key_stats.firsttower.hist()"
   ]
  },
  {
   "cell_type": "code",
   "execution_count": 30,
   "metadata": {},
   "outputs": [
    {
     "data": {
      "text/plain": [
       "array([[<AxesSubplot:title={'center':'assists'}>,\n",
       "        <AxesSubplot:title={'center':'assists'}>]], dtype=object)"
      ]
     },
     "execution_count": 30,
     "metadata": {},
     "output_type": "execute_result"
    },
    {
     "data": {
      "image/png": "[encoded data removed]",
      "text/plain": [
       "<Figure size 432x288 with 2 Axes>"
      ]
     },
     "metadata": {
      "needs_background": "light"
     },
     "output_type": "display_data"
    }
   ],
   "source": [
    "df_key_stats.assists.hist()"
   ]
  },
  {
   "cell_type": "code",
   "execution_count": 31,
   "metadata": {},
   "outputs": [],
   "source": [
    "key_stats_scale = scale(df_key_stats)"
   ]
  },
  {
   "cell_type": "code",
   "execution_count": 32,
   "metadata": {},
   "outputs": [
    {
     "data": {
      "text/html": [
       "<div>\n",
       "<style scoped>\n",
       "    .dataframe tbody tr th:only-of-type {\n",
       "        vertical-align: middle;\n",
       "    }\n",
       "\n",
       "    .dataframe tbody tr th {\n",
       "        vertical-align: top;\n",
       "    }\n",
       "\n",
       "    .dataframe thead th {\n",
       "        text-align: right;\n",
       "    }\n",
       "</style>\n",
       "<table border=\"1\" class=\"dataframe\">\n",
       "  <thead>\n",
       "    <tr style=\"text-align: right;\">\n",
       "      <th></th>\n",
       "      <th>Win_Percentage</th>\n",
       "      <th>Wins</th>\n",
       "      <th>Losses</th>\n",
       "      <th>kills</th>\n",
       "      <th>assists</th>\n",
       "      <th>firstblood</th>\n",
       "      <th>firstdragon</th>\n",
       "      <th>mountains</th>\n",
       "      <th>oceans</th>\n",
       "      <th>deaths</th>\n",
       "      <th>...</th>\n",
       "      <th>controlwardsbought</th>\n",
       "      <th>firsttower</th>\n",
       "      <th>towers</th>\n",
       "      <th>firsttothreetowers</th>\n",
       "      <th>totalgold</th>\n",
       "      <th>earnedgold</th>\n",
       "      <th>goldspent</th>\n",
       "      <th>minionkills</th>\n",
       "      <th>monsterkills</th>\n",
       "      <th>inhibitors</th>\n",
       "    </tr>\n",
       "  </thead>\n",
       "  <tbody>\n",
       "    <tr>\n",
       "      <th>0</th>\n",
       "      <td>-0.488819</td>\n",
       "      <td>-0.338581</td>\n",
       "      <td>0.905585</td>\n",
       "      <td>0.062650</td>\n",
       "      <td>-0.084912</td>\n",
       "      <td>-0.172537</td>\n",
       "      <td>0.094585</td>\n",
       "      <td>0.483494</td>\n",
       "      <td>1.069190</td>\n",
       "      <td>0.868788</td>\n",
       "      <td>...</td>\n",
       "      <td>0.120500</td>\n",
       "      <td>0.209657</td>\n",
       "      <td>-0.118507</td>\n",
       "      <td>-0.519519</td>\n",
       "      <td>0.091946</td>\n",
       "      <td>0.047409</td>\n",
       "      <td>0.169672</td>\n",
       "      <td>0.105943</td>\n",
       "      <td>0.066687</td>\n",
       "      <td>0.010740</td>\n",
       "    </tr>\n",
       "    <tr>\n",
       "      <th>1</th>\n",
       "      <td>1.983342</td>\n",
       "      <td>1.653072</td>\n",
       "      <td>-2.166935</td>\n",
       "      <td>1.447857</td>\n",
       "      <td>1.315775</td>\n",
       "      <td>0.813390</td>\n",
       "      <td>1.671002</td>\n",
       "      <td>1.188589</td>\n",
       "      <td>0.588655</td>\n",
       "      <td>-0.801958</td>\n",
       "      <td>...</td>\n",
       "      <td>-0.498422</td>\n",
       "      <td>2.044155</td>\n",
       "      <td>1.395751</td>\n",
       "      <td>1.693247</td>\n",
       "      <td>0.277867</td>\n",
       "      <td>0.508935</td>\n",
       "      <td>0.109107</td>\n",
       "      <td>-0.228928</td>\n",
       "      <td>0.547876</td>\n",
       "      <td>1.514379</td>\n",
       "    </tr>\n",
       "    <tr>\n",
       "      <th>2</th>\n",
       "      <td>-1.699844</td>\n",
       "      <td>-1.533572</td>\n",
       "      <td>0.905585</td>\n",
       "      <td>-0.937457</td>\n",
       "      <td>-0.834848</td>\n",
       "      <td>-1.035224</td>\n",
       "      <td>-1.639473</td>\n",
       "      <td>-1.128152</td>\n",
       "      <td>-1.693885</td>\n",
       "      <td>0.071971</td>\n",
       "      <td>...</td>\n",
       "      <td>-1.069347</td>\n",
       "      <td>-1.493806</td>\n",
       "      <td>-1.490118</td>\n",
       "      <td>-1.289177</td>\n",
       "      <td>-1.159017</td>\n",
       "      <td>-1.180241</td>\n",
       "      <td>-1.114293</td>\n",
       "      <td>-1.074519</td>\n",
       "      <td>-1.284533</td>\n",
       "      <td>-1.600301</td>\n",
       "    </tr>\n",
       "    <tr>\n",
       "      <th>3</th>\n",
       "      <td>-0.810715</td>\n",
       "      <td>-0.836494</td>\n",
       "      <td>0.582162</td>\n",
       "      <td>-0.765025</td>\n",
       "      <td>-0.767112</td>\n",
       "      <td>-0.419019</td>\n",
       "      <td>-0.693623</td>\n",
       "      <td>-1.128152</td>\n",
       "      <td>-0.372414</td>\n",
       "      <td>-0.510648</td>\n",
       "      <td>...</td>\n",
       "      <td>-0.619680</td>\n",
       "      <td>-0.838628</td>\n",
       "      <td>-1.007311</td>\n",
       "      <td>-0.904348</td>\n",
       "      <td>-0.634916</td>\n",
       "      <td>-0.684825</td>\n",
       "      <td>-0.569950</td>\n",
       "      <td>-0.522008</td>\n",
       "      <td>-0.402022</td>\n",
       "      <td>-1.385496</td>\n",
       "    </tr>\n",
       "    <tr>\n",
       "      <th>4</th>\n",
       "      <td>0.145937</td>\n",
       "      <td>0.557663</td>\n",
       "      <td>0.743873</td>\n",
       "      <td>0.591443</td>\n",
       "      <td>0.519875</td>\n",
       "      <td>0.443667</td>\n",
       "      <td>1.355718</td>\n",
       "      <td>0.483494</td>\n",
       "      <td>0.588655</td>\n",
       "      <td>1.537086</td>\n",
       "      <td>...</td>\n",
       "      <td>1.578126</td>\n",
       "      <td>0.209657</td>\n",
       "      <td>0.715432</td>\n",
       "      <td>0.538760</td>\n",
       "      <td>0.967645</td>\n",
       "      <td>0.899955</td>\n",
       "      <td>1.039490</td>\n",
       "      <td>1.029960</td>\n",
       "      <td>0.920747</td>\n",
       "      <td>0.601456</td>\n",
       "    </tr>\n",
       "  </tbody>\n",
       "</table>\n",
       "<p>5 rows × 23 columns</p>\n",
       "</div>"
      ],
      "text/plain": [
       "   Win_Percentage      Wins    Losses     kills   assists  firstblood  \\\n",
       "0       -0.488819 -0.338581  0.905585  0.062650 -0.084912   -0.172537   \n",
       "1        1.983342  1.653072 -2.166935  1.447857  1.315775    0.813390   \n",
       "2       -1.699844 -1.533572  0.905585 -0.937457 -0.834848   -1.035224   \n",
       "3       -0.810715 -0.836494  0.582162 -0.765025 -0.767112   -0.419019   \n",
       "4        0.145937  0.557663  0.743873  0.591443  0.519875    0.443667   \n",
       "\n",
       "   firstdragon  mountains    oceans    deaths  ...  controlwardsbought  \\\n",
       "0     0.094585   0.483494  1.069190  0.868788  ...            0.120500   \n",
       "1     1.671002   1.188589  0.588655 -0.801958  ...           -0.498422   \n",
       "2    -1.639473  -1.128152 -1.693885  0.071971  ...           -1.069347   \n",
       "3    -0.693623  -1.128152 -0.372414 -0.510648  ...           -0.619680   \n",
       "4     1.355718   0.483494  0.588655  1.537086  ...            1.578126   \n",
       "\n",
       "   firsttower    towers  firsttothreetowers  totalgold  earnedgold  goldspent  \\\n",
       "0    0.209657 -0.118507           -0.519519   0.091946    0.047409   0.169672   \n",
       "1    2.044155  1.395751            1.693247   0.277867    0.508935   0.109107   \n",
       "2   -1.493806 -1.490118           -1.289177  -1.159017   -1.180241  -1.114293   \n",
       "3   -0.838628 -1.007311           -0.904348  -0.634916   -0.684825  -0.569950   \n",
       "4    0.209657  0.715432            0.538760   0.967645    0.899955   1.039490   \n",
       "\n",
       "   minionkills  monsterkills  inhibitors  \n",
       "0     0.105943      0.066687    0.010740  \n",
       "1    -0.228928      0.547876    1.514379  \n",
       "2    -1.074519     -1.284533   -1.600301  \n",
       "3    -0.522008     -0.402022   -1.385496  \n",
       "4     1.029960      0.920747    0.601456  \n",
       "\n",
       "[5 rows x 23 columns]"
      ]
     },
     "execution_count": 32,
     "metadata": {},
     "output_type": "execute_result"
    }
   ],
   "source": [
    "df_key_stats_scaled = pd.DataFrame(key_stats_scale, columns=key_stats)\n",
    "df_key_stats_scaled.head()"
   ]
  },
  {
   "cell_type": "code",
   "execution_count": 33,
   "metadata": {},
   "outputs": [
    {
     "data": {
      "text/plain": [
       "Win_Percentage        4.856409e-01\n",
       "Wins                  1.638000e+02\n",
       "Losses                1.638000e+02\n",
       "kills                 3.661700e+03\n",
       "assists               8.736700e+03\n",
       "firstblood            1.638000e+02\n",
       "firstdragon           1.638000e+02\n",
       "mountains             1.764000e+02\n",
       "oceans                2.107000e+02\n",
       "deaths                3.665200e+03\n",
       "firstblood            1.638000e+02\n",
       "assists               8.736700e+03\n",
       "wardskilled           1.624210e+04\n",
       "controlwardsbought    1.440810e+04\n",
       "firsttower            1.638000e+02\n",
       "towers                2.000600e+03\n",
       "firsttothreetowers    1.638000e+02\n",
       "totalgold             1.925953e+07\n",
       "earnedgold            1.196531e+07\n",
       "goldspent             1.785544e+07\n",
       "minionkills           2.876524e+05\n",
       "monsterkills          6.970880e+04\n",
       "inhibitors            3.486000e+02\n",
       "dtype: float64"
      ]
     },
     "execution_count": 33,
     "metadata": {},
     "output_type": "execute_result"
    }
   ],
   "source": [
    "df_key_stats.mean()"
   ]
  },
  {
   "cell_type": "code",
   "execution_count": 34,
   "metadata": {},
   "outputs": [
    {
     "data": {
      "text/plain": [
       "Win_Percentage        1.670733e-01\n",
       "Wins                  7.409573e+01\n",
       "Losses                4.562845e+01\n",
       "kills                 1.283747e+03\n",
       "assists               3.050100e+03\n",
       "firstblood            5.987171e+01\n",
       "firstdragon           4.680646e+01\n",
       "mountains             7.325329e+01\n",
       "oceans                6.142032e+01\n",
       "deaths                8.611941e+02\n",
       "firstblood            5.987171e+01\n",
       "assists               3.050100e+03\n",
       "wardskilled           3.714810e+03\n",
       "controlwardsbought    2.920832e+03\n",
       "firsttower            5.631025e+01\n",
       "towers                6.724438e+02\n",
       "firsttothreetowers    7.669536e+01\n",
       "totalgold             3.997629e+06\n",
       "earnedgold            2.617517e+06\n",
       "goldspent             3.595596e+06\n",
       "minionkills           5.438061e+04\n",
       "monsterkills          1.478219e+04\n",
       "inhibitors            1.374014e+02\n",
       "dtype: float64"
      ]
     },
     "execution_count": 34,
     "metadata": {},
     "output_type": "execute_result"
    }
   ],
   "source": [
    "df_key_stats.std()"
   ]
  },
  {
   "cell_type": "code",
   "execution_count": 35,
   "metadata": {},
   "outputs": [
    {
     "data": {
      "text/plain": [
       "Win_Percentage        1.584997e-01\n",
       "Wins                  7.029339e+01\n",
       "Losses                4.328695e+01\n",
       "kills                 1.217869e+03\n",
       "assists               2.893579e+03\n",
       "firstblood            5.679930e+01\n",
       "firstdragon           4.440450e+01\n",
       "mountains             6.949417e+01\n",
       "oceans                5.826843e+01\n",
       "deaths                8.170005e+02\n",
       "firstblood            5.679930e+01\n",
       "assists               2.893579e+03\n",
       "wardskilled           3.524179e+03\n",
       "controlwardsbought    2.770945e+03\n",
       "firsttower            5.342060e+01\n",
       "towers                6.379362e+02\n",
       "firsttothreetowers    7.275960e+01\n",
       "totalgold             3.792484e+06\n",
       "earnedgold            2.483195e+06\n",
       "goldspent             3.411082e+06\n",
       "minionkills           5.158997e+04\n",
       "monsterkills          1.402362e+04\n",
       "inhibitors            1.303505e+02\n",
       "dtype: float64"
      ]
     },
     "execution_count": 35,
     "metadata": {},
     "output_type": "execute_result"
    }
   ],
   "source": [
    "df_key_stats.std(ddof=0)"
   ]
  },
  {
   "cell_type": "code",
   "execution_count": 36,
   "metadata": {},
   "outputs": [],
   "source": [
    "Lol_pca = PCA().fit(key_stats_scale)"
   ]
  },
  {
   "cell_type": "code",
   "execution_count": 37,
   "metadata": {},
   "outputs": [
    {
     "data": {
      "image/png": "[encoded data removed]",
      "text/plain": [
       "<Figure size 720x432 with 1 Axes>"
      ]
     },
     "metadata": {
      "needs_background": "light"
     },
     "output_type": "display_data"
    }
   ],
   "source": [
    "plt.subplots(figsize=(10, 6))\n",
    "plt.plot(Lol_pca.explained_variance_ratio_.cumsum());\n",
    "plt.xlabel('Component #')\n",
    "plt.ylabel('Cumulative ratio variance')\n",
    "plt.title('Cumulative variance ratio explained by PCA components for LoL summary statistics');"
   ]
  },
  {
   "cell_type": "markdown",
   "metadata": {},
   "source": [
    "2 components account for 95% of the variance, and 5 account for 99%. "
   ]
  },
  {
   "cell_type": "code",
   "execution_count": 43,
   "metadata": {},
   "outputs": [],
   "source": [
    "def scatterplots(columns, ncol=None, figsize=(15, 8)):\n",
    "    if ncol is None:\n",
    "        ncol = len(columns)\n",
    "    nrow = int(np.ceil(len(columns) / ncol))\n",
    "    fig, axes = plt.subplots(nrow, ncol, figsize=figsize, squeeze=False)\n",
    "    fig.subplots_adjust(wspace=0.5, hspace=0.6)\n",
    "    for i, col in enumerate(columns):\n",
    "        ax = axes.flatten()[i]\n",
    "        ax.scatter(x = col, y = 'Wins', data=df_key_stats, alpha=0.5)\n",
    "        ax.set(xlabel=col, ylabel='Number of Wins')\n",
    "    nsubplots = nrow * ncol    \n",
    "    for empty in range(i+1, nsubplots):\n",
    "        axes.flatten()[empty].set_visible(False)"
   ]
  },
  {
   "cell_type": "code",
   "execution_count": 44,
   "metadata": {},
   "outputs": [],
   "source": [
    "features = [feature for feature in df_key_stats.columns if feature in ['kills', 'assists', 'firsttower', 'mountains']]"
   ]
  },
  {
   "cell_type": "code",
   "execution_count": null,
   "metadata": {},
   "outputs": [],
   "source": []
  },
  {
   "cell_type": "code",
   "execution_count": null,
   "metadata": {},
   "outputs": [],
   "source": []
  }
 ],
 "metadata": {
  "kernelspec": {
   "display_name": "Python 3",
   "language": "python",
   "name": "python3"
  },
  "language_info": {
   "codemirror_mode": {
    "name": "ipython",
    "version": 3
   },
   "file_extension": ".py",
   "mimetype": "text/x-python",
   "name": "python",
   "nbconvert_exporter": "python",
   "pygments_lexer": "ipython3",
   "version": "3.7.6"
  }
 },
 "nbformat": 4,
 "nbformat_minor": 4
}
